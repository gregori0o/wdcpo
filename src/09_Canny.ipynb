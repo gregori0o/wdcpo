{
 "cells": [
  {
   "cell_type": "markdown",
   "metadata": {
    "id": "8tFqymC0KMtn",
    "pycharm": {
     "name": "#%% md\n"
    }
   },
   "source": [
    "# Detekcja krawędzi"
   ]
  },
  {
   "cell_type": "markdown",
   "metadata": {
    "id": "sWSeP91OKMtu",
    "pycharm": {
     "name": "#%% md\n"
    }
   },
   "source": [
    "## Cel ćwiczenia\n",
    "\n",
    "- Zapoznanie z metodami detekcji krawędzi:\n",
    "    - Sobel, Prewitt, Roberts - przypomnienie,\n",
    "    - Laplasjan z Gaussa (LoG – ang. Laplacian of Gaussian),\n",
    "    - Canny.\n",
    "\n",
    "Detekcja krawędzi przez wiele lat była podstawą algorytmów segmentacji.\n",
    "Krawędzie wykrywane są najczęściej z wykorzystaniem pierwszej (gradient) i drugiej (Laplasjan) pochodnej przestrzennej.\n",
    "Wykorzystanie obu metod zaprezentowane zostało w ćwiczeniu *Przetwarzanie wstępne. Filtracja kontekstowa*.\n",
    "\n",
    "W niniejszym ćwiczeniu poznane detektory krawędzi zostaną porównane z bardziej zaawansowanymi: Laplasjan z funkcji Gaussa (LoG), Zero Crossing i Canny."
   ]
  },
  {
   "cell_type": "markdown",
   "metadata": {
    "id": "MNaTD7V4KMtv",
    "pycharm": {
     "name": "#%% md\n"
    }
   },
   "source": [
    "## Laplasjan z Gaussa (LoG)\n",
    "\n",
    "Funkcja Gaussa:<br>\n",
    "\\begin{equation}\n",
    "h(r) = e^{\\frac{-r^2}{2 \\sigma^2}}\n",
    "\\end{equation}<br>\n",
    "gdzie:\n",
    "- $r^2 = x^2 + y^2$\n",
    "- $\\sigma$ to odchylenie standardowe.\n",
    "\n",
    "Działanie filtracji Gaussowskiej zostało przedstawione w ćwiczeniu \"Przetwarzanie wstępne\". W jej wyniku następuje rozmazanie obrazu.\n",
    "Laplasjan tej funkcji dany jest wzorem:\n",
    "\n",
    "\\begin{equation}\n",
    "\\nabla^2 h(r) = \\frac{r^2 - 2\\sigma^2}{\\sigma^4} e^{-\\frac{r^2}{2\\sigma^2}}\n",
    "\\end{equation}\n",
    "\n",
    "Funkcję (z oczywistych powodów) nazywamy Laplasjan z Gaussa (LoG).\n",
    "Ponieważ druga pochodna jest operacją liniową, konwolucja obrazu z $\\nabla^2 h(r)$ daje taki sam efekt jak zastosowanie filtracji Gaussa na obrazie, a następnie obliczenie Laplasjanu z wyniku.\n",
    "Lokalizacja krawędzi polega na znalezieniu miejsca, gdzie po filtracji LoG następuje zmiana znaku.\n",
    "\n",
    "1. Wczytaj obraz *house.png*.\n",
    "2. Wykonaj rozmycie Gaussowskie obrazu wejściowego.\n",
    "W tym celu wykorzysaj funkcję `cv2.GaussianBlur(img, kSize, sigma)`.\n",
    "Pierwszy argument jest obrazem wejśćiowym.\n",
    "Drugi jest rozmiarem filtru (podanym w nawiasach okrągłych, np. *(3, 3)*).\n",
    "Trzecim argumentem jest odchylenie standardowe. Wartość jest dobrana automatycznie, jeśli zosanie podana wartość `0` (będą równe rozmiarowi).\n",
    "3. Oblicz laplasjan obrazu rozmytego.\n",
    "W tym celu wykorzysaj funkcję `cv2.Laplacian(img, ddepth)`.\n",
    "Pierszym argumentem jest obraz wejściowy.\n",
    "Drugim argumentem jest typ danych wejściowych. Użyj `cv2.CV_32F`.\n",
    "4. Wyznacz miejsca zmiany znaku.\n",
    "Zaimplementuj funkcję `crossing(LoG, thr)`:\n",
    "    - Najpierw stwórz tablicę, do której zostanie zapisany wynik.\n",
    "    Jej rozmiar jest taki sam jak przetwarzanego obrazu.\n",
    "    - Następnie wykonaj pętle po obrazie (bez ramki jednopikselowej).\n",
    "    W każdej iteracji stwórz otoczenie o rozmiarze $3 \\times 3$.\n",
    "    Dla otoczenia oblicz wartość maksymalną i minimalną.\n",
    "    - Jeśli wartości te mają przeciwne znaki, to do danego miejsca tablicy przypisz wartość:\n",
    "        - jeśli piksel wejściowy > 0, to dodaj do niego wartość bezwzględną minimum.\n",
    "        - jeśli piksel wejściowy < 0, to do jego wartości bezwzględnej dodaj maksimum.\n",
    "    - Zmień zakres wykonanej tablicy do $<0, 255>$.\n",
    "    - Wykonaj progowanie tablicy. Próg jest argumentem wejściowym.\n",
    "    - Przeskaluj dane binarne do wartości `[0, 255]`.\n",
    "    - Wykonaj konwersję do typu *uint8*.\n",
    "    - Wykonaj rozmycie medianowe wyniku.\n",
    "    Wykorzystaj funkcję `cv2.medianBlur(img, kSize)`.\n",
    "    Pierwszym argumentem jest obraz wejśćiowy, a drugim rozmiar filtra.\n",
    "    - Zwróć wyznaczoną tablicę.\n",
    "5. Wyświetl obraz wynikowy.\n",
    "6. Dobierz parametry (rozmiar filtru Gaussa, odchylenie standardowe, próg binaryzacji) tak, by widoczne były kontury domu, ale nie dachówki."
   ]
  },
  {
   "cell_type": "code",
   "execution_count": null,
   "metadata": {
    "id": "gZ9jr6VGKMtx",
    "pycharm": {
     "name": "#%% Zadanie 1 - LoG\n"
    }
   },
   "outputs": [],
   "source": [
    "import cv2\n",
    "from matplotlib import pyplot as plt\n",
    "import numpy as np\n",
    "import math\n",
    "import os\n",
    "\n",
    "if not os.path.exists(\"dom.png\") :\n",
    "    !wget https://raw.githubusercontent.com/vision-agh/poc_sw/master/09_Canny/dom.png --no-check-certificate\n",
    "\n",
    "I = cv2.imread('dom.png') \n",
    "I = cv2.cvtColor(I, cv2.COLOR_BGR2GRAY)"
   ]
  },
  {
   "cell_type": "code",
   "execution_count": null,
   "metadata": {},
   "outputs": [],
   "source": [
    "def make_frame(I):\n",
    "    new_I = np.zeros((I.shape[0]+2, I.shape[1]+2))\n",
    "    new_I[1:-1, 1:-1] = I\n",
    "    \n",
    "    new_I[0, 1:-1] = I[-1, :]\n",
    "    new_I[-1, 1:-1] = I[0, :]\n",
    "    new_I[1:-1, 0] = I[:, -1]\n",
    "    new_I[1:-1, -1] = I[:, 0]\n",
    "    \n",
    "    new_I[0,0] = I[-1,-1]\n",
    "    new_I[-1,0] = I[0,-1]\n",
    "    new_I[0,-1] = I[-1,0]\n",
    "    new_I[-1,-1] = I[0,0]\n",
    "    \n",
    "    return new_I\n",
    "    \n",
    "\n",
    "def remove_frame(I):\n",
    "    return I[1:-1, 1:-1]\n",
    "\n",
    "def crossing(I, thr):\n",
    "    I = make_frame(I)\n",
    "    res = np.zeros_like(I)\n",
    "    for i in range(1, I.shape[0]-1):\n",
    "        for j in range(1, I.shape[1]-1):\n",
    "            surr = I[i-1:i+2, j-1:j+2]\n",
    "            min_value = np.amin(surr)\n",
    "            max_value = np.amax(surr)\n",
    "            if min_value < 0 and max_value > 0:\n",
    "                if I[i, j] < 0:\n",
    "                    res[i, j] = np.abs(I[i, j]) + max_value\n",
    "                elif I[i, j] > 0:\n",
    "                    res[i, j] = I[i, j] + np.abs(max_value)\n",
    "    res = remove_frame(res)\n",
    "    res += np.amin(res) * (-1)\n",
    "    max_value_res = np.amax(res)\n",
    "    res *= (255/max_value_res)\n",
    "    res = (res > thr) * 255\n",
    "    res = res.astype(np.uint8)\n",
    "    res = cv2.medianBlur(res, 3)\n",
    "    return res"
   ]
  },
  {
   "cell_type": "code",
   "execution_count": null,
   "metadata": {},
   "outputs": [],
   "source": [
    "thr = 80\n",
    "sigma = 5\n",
    "size = (3, 3)\n",
    "I_gaussian = cv2.GaussianBlur(I, size, sigma)\n",
    "I_lapl = cv2.Laplacian(I_gaussian, cv2.CV_32F)\n",
    "I_res = crossing(I_lapl, thr)"
   ]
  },
  {
   "cell_type": "code",
   "execution_count": null,
   "metadata": {},
   "outputs": [],
   "source": [
    "plt.figure(figsize=(7,7))\n",
    "plt.imshow(I, cmap =\"gray\")\n",
    "plt.xticks([]), plt.yticks([])\n",
    "plt.show()\n",
    "plt.figure(figsize=(7,7))\n",
    "plt.imshow(I_res, cmap =\"gray\")\n",
    "plt.xticks([]), plt.yticks([])\n",
    "plt.show()"
   ]
  },
  {
   "cell_type": "markdown",
   "metadata": {
    "id": "gVqSVdPtKMtz",
    "pycharm": {
     "name": "#%% md\n"
    }
   },
   "source": [
    "## Algorytm Canny'ego\n",
    "\n",
    "> Algorytm Canny'ego to często wykorzystywana metoda detekcji krawędzi.\n",
    "> Zaproponowana została w 1986r. przez Johna F. Cannego.\n",
    "> Przy jego projektowaniu założono trzy cele:\n",
    "> - niska liczba błędów - algorytm powinien znajdywać wszystkie krawędzie oraz generować jak najmniej fałszywych detekcji,\n",
    "> - punkty krawędziowe powinny być poprawnie lokalizowane - wykryte punkty powinny być jak najbardziej zbliżone do rzeczywistych,\n",
    "> - krawędzie o szerokości 1 piksela - algorytm powinien zwrócić jeden punkt dla każdej rzeczywistej krawędzi.\n",
    "\n",
    "Zaimplementuj algorytm detekcji krawędziCanny'ego:\n",
    "1. W pierwszym kroku obraz przefiltruj dwuwymiarowym filtrem Gaussa.\n",
    "2. Następnie oblicz gradient pionowy i poziomy ($g_x $ i $g_y$).\n",
    "Jedną z metod jest filtracja Sobela.\n",
    "3. Dalej oblicz amplitudę:\n",
    "$M(x,y)  = \\sqrt{g_x^2+g_y^2}$ oraz kąt:\n",
    "$\\alpha(x,y) = arctan(\\frac{g_y}{g_x})$.\n",
    "Do obliczenia kąta wykorzystaj funkcję `np.arctan2(x1, x2)`.\n",
    "Wynik jest w radianach.\n",
    "4. W kolejnym etapie wykonaj kwantyzację kątów gradientu.\n",
    "Kąty od $-180^\\circ$ do $180^\\circ$ można podzielić na 8 przedziałów:\n",
    "[$-22.5^\\circ, 22.5^\\circ$], [$22.5^\\circ, 67.5^\\circ$],\n",
    "[$67.5^\\circ, 112.5^\\circ$], [$112.5^\\circ, 157.5^\\circ$],\n",
    "[$157.5^\\circ, -157.5^\\circ$], [$-157.5^\\circ, -112.5^\\circ$],\n",
    "[$-112.5^\\circ, -67.5^\\circ$], [$-67.5^\\circ, -22.5^\\circ$].\n",
    "Przy czym należy rozpatrywać tylko 4 kierunki:\n",
    "    - pionowy ($d_1$),\n",
    "    - poziomy ($d_2$),\n",
    "    - skośny lewy ($d_3$),\n",
    "    - skośny prawy ($d_4$).\n",
    "5. Dalej przeprowadź eliminację pikseli, które nie mają wartości maksymalnej (ang. *nonmaximal suppresion*).\n",
    "Celem tej operacji jest redukcja szerokości krawędzi do rozmiaru 1 piksela.\n",
    "Algorytm przebiega następująco.\n",
    "W rozpatrywanym otoczeniu o rozmiarze $3 \\times 3$:\n",
    "    - określ do którego przedziału należy kierunek gradientu piksela centralnego ($d_1, d_2, d_3, d_4$).\n",
    "    - przeanalizuje sąsiadów leżących na tym kierunku.\n",
    "Jeśli choć jeden z nich ma amplitudę większą niż piksel centralny, to należy uznać, że nie jest lokalnym maksimum i do wyniku przypisać $g_N(x,y) = 0$.\n",
    "W przeciwnym przypadku $g_N(x,y) = M(x,y)$.\n",
    "Przez $g_N$ rozumiemy obraz detekcji lokalnych maksimów.\n",
    "Zaimplementuj funkcję `nonmax`.\n",
    "Pierwszym argementem jest macierz kierunków (po kwantyzacji).\n",
    "Drugim argumentem jest macierz amplitudy.\n",
    "6. Ostatnią operacją jest binaryzacja obrazu $g_N$.\n",
    "Stosuje się tutaj tzw. binaryzację z histerezą.\n",
    "Wykorzystuje się w niej dwa progi: $T_L$ i $T_H$, przy czym $T_L < T_H$.\n",
    "Canny zaproponował, aby stosunek progu wyższego do niższego był jak 3 lub 2 do 1.\n",
    "Rezultaty binaryzacji można opisać jako:<br>\n",
    "$g_{NH}(x,y) = g_N(x,y) \\geq TH $<br>\n",
    "$g_{NL}(x,y) = TH > g_N(x,y) \\geq TL $<br>\n",
    "Można powiedzieć, że na obrazie $g_{NH}$ są \"pewne\" krawędzie.\n",
    "Natomiast na $g_{NL}$ \"potencjalne\".\n",
    "Często krawędzie \"pewne\" nie są ciągłe.\n",
    "Dlatego wykorzystuje się obraz $g_{NL}$ w następującej procedurze:\n",
    "    - Stwórz stos zawierający wszystkie piksele zaznaczone na obrazie $g_{NH}$.\n",
    "W tym celu wykorzystaj listę współrzędnych `[row, col]`.\n",
    "Do pobrania elementu z początku służy metoda `list.pop()`.\n",
    "Do dodania elementu na koniec listy służy metoda `list.append(new)`.\n",
    "    - Stwórz obraz, który będzie zawierał informację czy dany piksel został już odwiedzony.\n",
    "    - Stwórz obraz, któy zawierać będzie wynikowe krawędzie.\n",
    "Jej rozmiar jest równy rozmiarowi obrazu.\n",
    "    - Wykonaj pętlę, która będzie pobierać elementy z listy, dopóki ta nie będzie pusta.\n",
    "W tym celu najlepiej sprawdzi się pętla `while`.\n",
    "    - W każdej iteracji pobierz element ze stosu.\n",
    "    - Sprawdź czy dany element został już odwiedzony.\n",
    "    - Jeśli nie został, to:\n",
    "        - Oznacz go jako odwiedzony,\n",
    "        - Oznacz piksel jako krawędź w wyniku,\n",
    "        - Sprawdź otoczenie piksela w obrazie $g_{NL}$,\n",
    "        - Dodaj do stosu współrzędne otoczenia, które zawierają krawędź (potencjalną).\n",
    "        Można to wykoanać np. pętlą po stworzonym otoczeniu.\n",
    "7. Wyświetl obraz oryginalny, obraz $g_{NH}$ oraz obraz wynikowy.\n",
    "\n",
    "Pomocnicze obrazy $g_{NH}$ i $g_{NL}$ zostały wprowadzone dla uproszczenia opisu.\n",
    "Algorytm można zaimplementować wbardziej \"zwarty\" sposób.\n",
    "\n",
    "Na podstawie powyższego opisu zaimplementuj algorytm Cannego."
   ]
  },
  {
   "cell_type": "code",
   "execution_count": null,
   "metadata": {
    "id": "ZlKCg-f5KMt0",
    "pycharm": {
     "name": "#%% Zadanie 2 - Canny\n"
    },
    "scrolled": true
   },
   "outputs": [],
   "source": [
    "def nonmax(directions, amplituda):\n",
    "    res = np.zeros_like(amplituda)\n",
    "    for i in range(1, res.shape[0]-1):\n",
    "        for j in range(1, res.shape[1]-1):\n",
    "            surr = amplituda[i-1:i+2, j-1:j+2]\n",
    "            direct = directions[i, j]\n",
    "            if direct == 1:\n",
    "                values = np.array([surr[1, 0], surr[1, 1], surr[1, 2]])\n",
    "                max_v = np.amax(values)\n",
    "                if surr[1, 1] == max_v:\n",
    "                    res[i, j] = max_v\n",
    "            elif direct == 2:\n",
    "                values = np.array([surr[0, 1], surr[1, 1], surr[2, 1]])\n",
    "                max_v = np.amax(values)\n",
    "                if surr[1, 1] == max_v:\n",
    "                    res[i, j] = max_v\n",
    "            elif direct == 3:\n",
    "                values = np.array([surr[2, 0], surr[1, 1], surr[0, 2]])\n",
    "                max_v = np.amax(values)\n",
    "                if surr[1, 1] == max_v:\n",
    "                    res[i, j] = max_v\n",
    "            elif direct == 4:\n",
    "                values = np.array([surr[0, 0], surr[1, 1], surr[2, 2]])\n",
    "                max_v = np.amax(values)\n",
    "                if surr[1, 1] == max_v:\n",
    "                    res[i, j] = max_v\n",
    "    return res\n",
    "\n",
    "def filter_mask (I, mask):\n",
    "    res = np.zeros_like(I)\n",
    "    for i in range(1, res.shape[0]-1):\n",
    "        for j in range(1, res.shape[1]-1):\n",
    "            surr = I[i-1:i+2, j-1:j+2]\n",
    "            res[i, j] = np.sum(surr * mask)\n",
    "    return res\n",
    "\n",
    "sigma = 5\n",
    "size = (3, 3)\n",
    "thr1 = 75\n",
    "thr2 = 150\n",
    "I_gaussian = cv2.GaussianBlur(I, size, sigma).astype(int)\n",
    "\n",
    "S1 = np.array([[-1, 0, 1], [-2, 0, 2], [-1, 0, 1]])\n",
    "S2 = np.array([[-1, -2, -1], [0, 0, 0], [1, 2, 1]])\n",
    "\n",
    "gradient_x = filter_mask(I_gaussian, S1)\n",
    "gradient_y = filter_mask(I_gaussian, S2)\n",
    "amplituda = np.sqrt(gradient_x ** 2 + gradient_y ** 2)\n",
    "angle = np.arctan2(gradient_y, gradient_x)\n",
    "angle[angle > np.pi/2] -= np.pi\n",
    "angle[angle < (-1)*np.pi/2] += np.pi\n",
    "\n",
    "grad_x = gradient_x.copy()\n",
    "grad_x += ((grad_x == 0) * 1).astype(np.uint8)\n",
    "\n",
    "step_angle = (22.5/180) * np.pi\n",
    "\n",
    "mask_1 = ((angle <= step_angle) & (angle >= -1*step_angle)) * 1\n",
    "mask_2 = ((angle >= (np.pi/2) - step_angle) | (angle <= (-np.pi/2) + step_angle)) * 2\n",
    "mask_3 = ((angle < 3*step_angle) & (angle > step_angle)) * 3\n",
    "mask_4 = ((angle < -1*step_angle) & (angle > -3*step_angle)) * 4\n",
    "classfication_angle = mask_1 + mask_2 + mask_3 + mask_4\n",
    "nonmax_values = nonmax(classfication_angle, amplituda)\n",
    "\n",
    "gnh = nonmax_values >= thr2\n",
    "gnl = (nonmax_values >= thr1) & (nonmax_values < thr2)\n",
    "stack = list(np.argwhere(gnh))\n",
    "visited = np.zeros_like(gnh)\n",
    "result = np.zeros_like(gnh)\n",
    "while stack:\n",
    "    x, y = stack.pop()\n",
    "    if visited[x, y]:\n",
    "        continue\n",
    "    visited[x, y] = 1\n",
    "    result[x, y] = 1\n",
    "    for i in range(max(x-1, 0), min(x+2, result.shape[0])):\n",
    "        for j in range(max(y-1, 0), min(y+2, result.shape[1])):\n",
    "            if gnl[i, j]:\n",
    "                stack.append([i, j])"
   ]
  },
  {
   "cell_type": "code",
   "execution_count": null,
   "metadata": {},
   "outputs": [],
   "source": [
    "plt.figure(figsize=(7,7))\n",
    "plt.imshow(I, cmap =\"gray\")\n",
    "plt.xticks([]), plt.yticks([])\n",
    "plt.show()\n",
    "plt.figure(figsize=(7,7))\n",
    "plt.imshow(gnh, cmap =\"gray\")\n",
    "plt.xticks([]), plt.yticks([])\n",
    "plt.show()\n",
    "plt.figure(figsize=(7,7))\n",
    "plt.imshow(result, cmap =\"gray\")\n",
    "plt.xticks([]), plt.yticks([])\n",
    "plt.show()"
   ]
  },
  {
   "cell_type": "markdown",
   "metadata": {
    "id": "2k7jtQKfKMt0",
    "pycharm": {
     "name": "#%% md\n"
    }
   },
   "source": [
    "## Algorytm Canny'ego - OpenCV\n",
    "\n",
    "1. Wykonaj dektekcję krawędzi metodą Canny'ego wykorzystując funkcję `cv2.Canny`.\n",
    "    - Pierwszym argumentem funkcji jest obraz wejściowy.\n",
    "    - Drugim argumentem jest mniejszy próg.\n",
    "    - Trzecim argumentem jest większy próg.\n",
    "    - Czwarty argument to tablica, do której wpisany zostanie wynik.\n",
    "    Można zwrócić go przez wartość i podać wartość `None`.\n",
    "    - Piąty argument to rozmiar operatora Sobela (w naszym przypadku 3).\n",
    "    - Szósty argument to rodzaj używanej normy.\n",
    "    0 oznacza normę $L_1$, 1 oznacza normę $L_2$. Użyj $L_2$.\n",
    "2. Wynik wyświetl i porównaj z własną implementacją."
   ]
  },
  {
   "cell_type": "code",
   "execution_count": null,
   "metadata": {
    "id": "0GvszyAmKMt1",
    "pycharm": {
     "name": "#%% Zadanie 3 - Canny opencv\n"
    }
   },
   "outputs": [],
   "source": [
    "I_res = cv2.Canny(I, 200, 350, None, 3, 1)"
   ]
  },
  {
   "cell_type": "code",
   "execution_count": null,
   "metadata": {},
   "outputs": [],
   "source": [
    "plt.figure(figsize=(7,7))\n",
    "plt.imshow(I_res, cmap =\"gray\")\n",
    "plt.xticks([]), plt.yticks([])\n",
    "plt.show()"
   ]
  }
 ],
 "metadata": {
  "colab": {
   "name": "09_Canny.ipynb",
   "provenance": []
  },
  "kernelspec": {
   "display_name": "Python 3",
   "language": "python",
   "name": "python3"
  },
  "language_info": {
   "codemirror_mode": {
    "name": "ipython",
    "version": 3
   },
   "file_extension": ".py",
   "mimetype": "text/x-python",
   "name": "python",
   "nbconvert_exporter": "python",
   "pygments_lexer": "ipython3",
   "version": "3.8.5"
  }
 },
 "nbformat": 4,
 "nbformat_minor": 1
}
