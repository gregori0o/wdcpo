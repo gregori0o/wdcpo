{
 "cells": [
  {
   "cell_type": "markdown",
   "metadata": {
    "id": "8QovP5QKvan_"
   },
   "source": [
    "### Transformata Hougha w przestrzeni ab - Domowe\n",
    "Przestrzeń ρ,θ nie jest jedyną przestrzenią w której punkt odpowiada parametrom prostej. Np. można spróbować wykorzystać tradycyjne równanie prostej:\n",
    "\n",
    "y=ax+b\n",
    "\n",
    "W tej przestrzeni reprezentacją pęku prostych jest prosta. \n",
    "\n",
    "Zadanie: napisać funkcję, która jako argument przyjmuje obraz (binarny) oraz parametry:\n",
    "\n",
    "- aMin - minimalna wartość parametru a\n",
    "- aMax - maksymalna  wartość parametru a\n",
    "- aSkok - skok parametru a\n",
    "- bMin - minimalna wartość parametru b\n",
    "- bMax  - maksymalna  wartość parametru b\n",
    "- bSkok - skok parametru b\n",
    "Jako wynik ma zwrócić macierz przestrzeni Hougha ab.\n",
    "\n",
    "Uwagi:\n",
    "\n",
    "- zadanie może wyglądać na skomplikowane ale tak na prawdę wymaga tylko starannego przemyślenia\n",
    "- najważniejszy jest problem \"adresowania\" macierzy H. Można do tego wykorzystać dwa wektory A i B ze wszystkimi możliwymi wartościami jakie parametry a i b mogę przyjąć (w podanych zakresach z podanym skokiem). Wówczas indeksy tych wektorów będą współrzędnymi w macierzy H. Do stworzenia wektorów wykorzystaj funkcję _np.arange_\n",
    "- na podstawie rozmiaru wektorów A i B (własność _shape_) należy stworzyć wyzerowaną macierz H (funkcja _np.zeros_) \n",
    "- dla każdego punktu krawędzi na obrazie należy:\n",
    "    - używająć wektora A dla każdej z jego wartości a obliczyć odpowiednią wartość b - indeksy kolejnych wartości a (a_idx) będą jedną z współrzędnych macierzy H, natomiast drugą współrędną mozna uzyskać jako b_idx = np.argmin(abs(B - b)).\n",
    "        - każde a_idx i b_idx wyznaczą punkt w macierzy H, który należy zinkrementować\n",
    "- działanie funkcji należy przetestować na punktach generowanych w 'edytorku' z punktu \"Transformacja Hougha dla małej liczby punktów\". Proponowane parametry funkcji:\n",
    "    - aMin: -5\n",
    "    - aMax:  5\n",
    "    - aSkok: 0.05 \n",
    "    - bMin: -100\n",
    "    - bMax:  100\n",
    "    - bSkok: 1\n",
    "\n",
    "Zastanów się w przypadku jakich prostych reprezentacja ab nie sprawdzi się."
   ]
  },
  {
   "cell_type": "code",
   "execution_count": null,
   "metadata": {
    "id": "4bnx4Qj-vaoH"
   },
   "outputs": [],
   "source": [
    "import matplotlib.pyplot as plt\n",
    "import cv2\n",
    "import numpy as np\n",
    "from skimage.transform import hough_line, hough_line_peaks"
   ]
  },
  {
   "cell_type": "code",
   "execution_count": null,
   "metadata": {},
   "outputs": [],
   "source": [
    "def hough_transform(img, a_min, a_max, a_step, b_min, b_max, b_step):\n",
    "    A = np.arange(a_min, a_max, a_step)\n",
    "    B = np.arange(b_min, b_max, b_step)\n",
    "    H = np.zeros((len(B), len(A)))\n",
    "    for x, y in np.argwhere(img > 0):\n",
    "        for i, a in enumerate(A):\n",
    "            b = y - a * x\n",
    "            j = np.argmin(abs(B - b))\n",
    "            H[j, i] += 1\n",
    "    return H"
   ]
  },
  {
   "cell_type": "code",
   "execution_count": null,
   "metadata": {},
   "outputs": [],
   "source": [
    "def show_hough(h, image):\n",
    "    # Generating figure 1\n",
    "    fig, axes = plt.subplots(1, 2, figsize=(15, 6))\n",
    "    ax = axes.ravel()\n",
    "\n",
    "    ax[0].imshow(image, 'gray')\n",
    "    ax[0].set_title('Input image')\n",
    "    ax[0].set_axis_off()\n",
    "\n",
    "    ax[1].imshow(h, 'gray')\n",
    "    ax[1].set_title('Hough transform ab')\n",
    "    ax[1].set_xlabel('a (pixels)')\n",
    "    ax[1].set_ylabel('b (pixels)')\n",
    "    ax[1].axis('image')\n",
    "    \n",
    "    plt.tight_layout()\n",
    "    plt.show()    "
   ]
  },
  {
   "cell_type": "code",
   "execution_count": null,
   "metadata": {},
   "outputs": [],
   "source": [
    "a_min = -5\n",
    "a_max = 5\n",
    "a_step = 0.05\n",
    "b_min = -50\n",
    "b_max = 150\n",
    "b_step = 1"
   ]
  },
  {
   "cell_type": "code",
   "execution_count": null,
   "metadata": {},
   "outputs": [],
   "source": [
    "im = np.zeros((64,64), dtype=np.uint8)\n",
    "\n",
    "im[46, 61] = 1\n",
    "im[23, 51] = 1\n",
    "im[43, 21] = 1\n",
    "im[46, 15] = 1\n",
    "im[46, 5] = 1\n",
    "\n",
    "res = hough_transform(im, a_min, a_max, a_step, b_min, b_max, b_step)\n",
    "show_hough(res, im)"
   ]
  },
  {
   "cell_type": "code",
   "execution_count": null,
   "metadata": {},
   "outputs": [],
   "source": [
    "im = np.zeros((64,64), dtype=np.uint8)\n",
    "\n",
    "# im[18, 31] = 1\n",
    "# im[50, 31] = 1\n",
    "# im[30, 31] = 1\n",
    "\n",
    "im[31, 18] = 1\n",
    "im[31, 50] = 1\n",
    "im[31, 30] = 1\n",
    "\n",
    "res = hough_transform(im, a_min, a_max, a_step, b_min, b_max, b_step)\n",
    "show_hough(res, im)"
   ]
  },
  {
   "cell_type": "code",
   "execution_count": null,
   "metadata": {},
   "outputs": [],
   "source": [
    "im = np.zeros((64,64), dtype=np.uint8)\n",
    "\n",
    "im[18, 61] = 1\n",
    "im[23, 51] = 1\n",
    "im[33, 31] = 1\n",
    "im[36, 25] = 1\n",
    "im[46, 5] = 1\n",
    "\n",
    "res = hough_transform(im, a_min, a_max, a_step, b_min, b_max, b_step)\n",
    "show_hough(res, im)"
   ]
  },
  {
   "cell_type": "code",
   "execution_count": null,
   "metadata": {},
   "outputs": [],
   "source": [
    "im = np.zeros((64,64), dtype=np.uint8)\n",
    "\n",
    "im[50, 11] = 1\n",
    "\n",
    "res = hough_transform(im, a_min, a_max, a_step, b_min, b_max, b_step)\n",
    "show_hough(res, im)"
   ]
  },
  {
   "cell_type": "code",
   "execution_count": null,
   "metadata": {},
   "outputs": [],
   "source": [
    "im = np.zeros((64,64), dtype=np.uint8)\n",
    "\n",
    "im[18, 61] = 1\n",
    "im[23, 51] = 1\n",
    "im[33, 31] = 1\n",
    "im[36, 25] = 1\n",
    "im[46, 5] = 1\n",
    "\n",
    "im[61, 18] = 1\n",
    "im[51, 23] = 1\n",
    "im[31, 33] = 1\n",
    "im[25, 36] = 1\n",
    "im[5, 46] = 1\n",
    "\n",
    "res = hough_transform(im, a_min, a_max, a_step, b_min, b_max, b_step)\n",
    "show_hough(res, im)"
   ]
  },
  {
   "cell_type": "code",
   "execution_count": null,
   "metadata": {},
   "outputs": [],
   "source": [
    "im = np.zeros((64,64), dtype=np.uint8)\n",
    "\n",
    "#im[10, 10] = 1\n",
    "#im[20, 20] = 1\n",
    "im[50, 50] = 1\n",
    "im[45, 45] = 1\n",
    "\n",
    "im[12, 48] = 1\n",
    "#im[32, 28] = 1\n",
    "im[42, 18] = 1\n",
    "\n",
    "\n",
    "\n",
    "res = hough_transform(im, a_min, a_max, a_step, b_min, b_max, b_step)\n",
    "show_hough(res, im)"
   ]
  }
 ],
 "metadata": {
  "celltoolbar": "Raw Cell Format",
  "colab": {
   "name": "Hough_HW.ipynb",
   "provenance": []
  },
  "kernelspec": {
   "display_name": "Python 3",
   "language": "python",
   "name": "python3"
  },
  "language_info": {
   "codemirror_mode": {
    "name": "ipython",
    "version": 3
   },
   "file_extension": ".py",
   "mimetype": "text/x-python",
   "name": "python",
   "nbconvert_exporter": "python",
   "pygments_lexer": "ipython3",
   "version": "3.8.5"
  }
 },
 "nbformat": 4,
 "nbformat_minor": 1
}
