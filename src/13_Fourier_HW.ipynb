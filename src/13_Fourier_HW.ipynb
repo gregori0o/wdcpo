{
 "cells": [
  {
   "cell_type": "markdown",
   "metadata": {
    "pycharm": {
     "name": "#%% md\n"
    }
   },
   "source": [
    "## Zadanie domowe: Projektowanie filtru metodą okien\n",
    "\n",
    "Zauważone w zadaniu z filtracją artefakty są efektem zastosowania filtru idealnego (wycięcia odpowiednich częstotliwości).\n",
    "Aby je usunąć, należy filtr idealny w dziedzinie przestrzennej przemnożyć przez dwuwymiarowe okno (stworzone na podstawie jednowymiarowego).\n",
    "\n",
    "1. Zdefiniuj rozmiar filtra (np. 21).\n",
    "\n",
    "2. Stwórz okno np. Hamminga (`np.Hmming`) o zadanym rozmiarze.\n",
    "\n",
    "3. Na podstawie tego okna stwórz okno dwuwymiarowe: $F = f^Tf$.\n",
    "Można to zrealizować prostą instrukcją:\n",
    "        hanning2d = np.outer(hanning, hanning)\n",
    "\n",
    "4. Stwórz wzorcowy filtr idealny tak samo jak w poprzednim ćwiczeniu.\n",
    "Jego rozmiar musi być taki sam jak zdefiniowany w punkcie pierwszym.\n",
    "\n",
    "5. Generalna zasada jest taka, że należy obliczyć odwrotną transformatę Fouriera filtru idealnego.\n",
    "Aby zagwarantować jednak dobrą lokalizację i symetryczność tworzonego filtru wykorzystuje się dodatkowe rotacje i przesunięcia.\n",
    "\n",
    "        FilterFRot = np.rot90(np.fft.fftshift(np.rot90(FilterF, 2)), 2)\n",
    "        FilterFRot3 = np.dstack((FilterFRot, np.zeros(FilterFRot.shape)))\n",
    "        FilterFidft = cv2.idft(np.float32(FilterFRot3),\n",
    "                        flags=cv2.DFT_SCALE | cv2.DFT_COMPLEX_OUTPUT)\n",
    "        FilterFI = np.rot90(np.fft.fftshift(FilterFidft[:, :, 0]), 2)\n",
    "\n",
    "6. Aby otrzymać poprawny filtr należy teraz pomnożyć dwuwymiarowe okno ze stworzonym filtrem idealnym w dziedzinie przestrzennej.\n",
    "\n",
    "7. Stworzony filtr powinien zostać znowu przeniesiony do dziedziny częstotliwości.\n",
    "Należy jednak rozszerzyć go tak, aby miał taki sam rozmiar jak filtrowany obraz.\n",
    "Operację tę wykonaj tak samo jak w poprzednim ćwiczeniu (`cv2.copyMakeBorder`).\n",
    "Oblicz transformatę Fouriera i wykonaj przesunięcie.\n",
    "Następnie oblicz wartość bezwzględną (dzięki temu filtr nie będzie wpływał na fazę).\n",
    "Wynikiem jest poprawiony filtr w dziedzinie częstotliwości.\n",
    "\n",
    "8. Przeprowadź filtrację obrazu *lena.bmp* za pomocą zaprojektowanego filtra.\n",
    "Wyświetl filtr, oraz wynik filtracji.\n",
    "Do wyświetlenia filtru możesz użyć przestrzeń częstotliwości wygenerowaną w poprzednim zadaniu (*FSpaceRowsM* i *FSpaceColsM*)."
   ]
  },
  {
   "cell_type": "code",
   "execution_count": null,
   "metadata": {
    "pycharm": {
     "name": "#%% Zadanie 4 - okna\n"
    }
   },
   "outputs": [],
   "source": [
    "import cv2\n",
    "from matplotlib import pyplot as plt\n",
    "import numpy as np\n",
    "import math\n",
    "import os\n",
    "\n",
    "# Load required files\n",
    "if not os.path.exists(\"literki.bmp\") :\n",
    "    !wget https://raw.githubusercontent.com/vision-agh/poc_sw/master/08_Fourier/literki.bmp --no-check-certificate\n",
    "if not os.path.exists(\"wzorA.bmp\") :\n",
    "    !wget https://raw.githubusercontent.com/vision-agh/poc_sw/master/08_Fourier/wzorA.bmp --no-check-certificate\n",
    "\n"
   ]
  },
  {
   "cell_type": "code",
   "execution_count": null,
   "metadata": {},
   "outputs": [],
   "source": [
    "size = 21\n",
    "hamming_window = np.hamming(size)\n",
    "hamming_2d = np.outer(hamming_window, hamming_window)\n",
    "\n",
    "FSpaceRows = 2 * np.fft.fftshift(np.fft.fftfreq(size))\n",
    "FSpaceRowsM = np.outer(FSpaceRows, np.ones([1, size]))\n",
    "FSpaceCols = 2 * np.fft.fftshift(np.fft.fftfreq(size))\n",
    "FSpaceColsM = np.outer(np.ones([1, size]), FSpaceCols)\n",
    "\n",
    "FreqR = np.sqrt(np.square(FSpaceRowsM) + np.square(FSpaceColsM))\n",
    "\n",
    "FilterF = FreqR <= 0.1\n",
    "# FilterF3 = np.repeat(FilterF[:, :, np.newaxis], 2, axis=2)\n",
    "\n",
    "FilterFRot = np.rot90(np.fft.fftshift(np.rot90(FilterF, 2)), 2)\n",
    "FilterFRot3 = np.dstack((FilterFRot, np.zeros(FilterFRot.shape)))\n",
    "FilterFidft = cv2.idft(np.float32(FilterFRot3), flags=cv2.DFT_SCALE | cv2.DFT_COMPLEX_OUTPUT)\n",
    "FilterFI = np.rot90(np.fft.fftshift(FilterFidft[:, :, 0]), 2)\n",
    "\n",
    "filter_result = FilterFI * hamming_2d\n",
    "\n",
    "\n",
    "figFilter = plt.figure()\n",
    "axsFilter = figFilter.add_subplot(projection='3d')\n",
    "axsFilter.plot_surface(FSpaceRowsM, FSpaceColsM, filter_result, rstride=1, cstride=1, cmap=plt.get_cmap('gray'), linewidth=0)\n",
    "figFilter.show()"
   ]
  },
  {
   "cell_type": "code",
   "execution_count": null,
   "metadata": {},
   "outputs": [],
   "source": [
    "img = cv2.imread('lena.bmp', cv2.IMREAD_GRAYSCALE)\n",
    "f_img = cv2.dft(np.float32(img), flags=cv2.DFT_COMPLEX_OUTPUT)\n",
    "f_img_shift = np.fft.fftshift(f_img, [0,1])\n",
    "\n",
    "\n",
    "right = img.shape[1] - size\n",
    "down = img.shape[0] - size\n",
    "filter_result_padd = cv2.copyMakeBorder(filter_result, down//2, down - down//2, right//2, right - right//2, cv2.BORDER_CONSTANT, value=0)\n",
    "\n",
    "f_filter = cv2.dft(np.float32(filter_result_padd), flags=cv2.DFT_COMPLEX_OUTPUT)\n",
    "f_filter_shift = np.fft.fftshift(f_filter, [0,1])\n",
    "\n",
    "# mag = cv2.magnitude(f_filter_shift[:, :, 0], f_filter_shift[:, :, 1])\n",
    "\n",
    "filt = np.abs(f_filter_shift)\n",
    "\n",
    "mag = cv2.magnitude(filt[:, :, 0], filt[:, :, 1])\n",
    "\n",
    "FilterF3 = np.repeat(mag[:, :, np.newaxis], 2, axis=2)\n",
    "\n",
    "img = cv2.imread('lena.bmp', cv2.IMREAD_GRAYSCALE)\n",
    "f_img = cv2.dft(np.float32(img), flags=cv2.DFT_COMPLEX_OUTPUT)\n",
    "f_img_shift = np.fft.fftshift(f_img, [0,1])"
   ]
  },
  {
   "cell_type": "code",
   "execution_count": null,
   "metadata": {},
   "outputs": [],
   "source": [
    "\n",
    "mult_result = f_img_shift * FilterF3\n",
    "img_shift = np.fft.ifftshift(mult_result, [0, 1])\n",
    "idft_img = cv2.idft(img_shift, flags=cv2.DFT_SCALE | cv2.DFT_COMPLEX_OUTPUT)\n",
    "idft_img = np.absolute(idft_img)\n",
    "ifft_img = cv2.magnitude(idft_img[:, :, 0], idft_img[:, :, 1])\n",
    "res = np.round(ifft_img).astype('uint8')"
   ]
  },
  {
   "cell_type": "code",
   "execution_count": null,
   "metadata": {},
   "outputs": [],
   "source": [
    "fig, axs = plt.subplots(1, 3)\n",
    "fig.set_size_inches(20, 15)\n",
    "\n",
    "\n",
    "axs[0].imshow(img, 'gray', vmin=0, vmax=256)\n",
    "axs[0].axis('off')\n",
    "axs[0].set_title(\"Obraz\")\n",
    "axs[1].imshow(mag, 'gray')\n",
    "axs[1].axis('off')\n",
    "axs[1].set_title(\"Filtr\")\n",
    "axs[2].imshow(res, 'gray')\n",
    "axs[2].axis('off')\n",
    "axs[2].set_title(\"Rezultat\")\n"
   ]
  },
  {
   "cell_type": "code",
   "execution_count": null,
   "metadata": {},
   "outputs": [],
   "source": []
  },
  {
   "cell_type": "code",
   "execution_count": null,
   "metadata": {},
   "outputs": [],
   "source": []
  },
  {
   "cell_type": "code",
   "execution_count": null,
   "metadata": {},
   "outputs": [],
   "source": []
  }
 ],
 "metadata": {
  "kernelspec": {
   "display_name": "Python 3",
   "language": "python",
   "name": "python3"
  },
  "language_info": {
   "codemirror_mode": {
    "name": "ipython",
    "version": 3
   },
   "file_extension": ".py",
   "mimetype": "text/x-python",
   "name": "python",
   "nbconvert_exporter": "python",
   "pygments_lexer": "ipython3",
   "version": "3.8.5"
  }
 },
 "nbformat": 4,
 "nbformat_minor": 4
}
